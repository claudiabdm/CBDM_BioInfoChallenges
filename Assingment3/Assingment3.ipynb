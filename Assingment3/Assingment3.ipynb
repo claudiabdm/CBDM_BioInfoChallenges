{
 "cells": [
  {
   "cell_type": "markdown",
   "metadata": {},
   "source": [
    "# Bioinformatics Programming Challenges\n",
    "## Assignment 3: GFF feature files and visualization\n",
    "\n",
    "#### Name: Claudia Benito de Moya \n",
    "#### Email: c.benitod@alumnos.upm.es"
   ]
  },
  {
   "cell_type": "code",
   "execution_count": 1,
   "metadata": {},
   "outputs": [
    {
     "name": "stdout",
     "output_type": "stream",
     "text": [
      "\n"
     ]
    }
   ],
   "source": [
    "require 'rest-client'\n",
    "require 'net/http'\n",
    "require 'bio'\n",
    "require 'ruby-progressbar'\n",
    "require './A3functions/functions'\n",
    "file = 'ArabidopsisSubNetwork_GeneList.txt'\n",
    "motif = 'CTTCTT'\n",
    "puts ''"
   ]
  },
  {
   "cell_type": "markdown",
   "metadata": {},
   "source": [
    "### Task 1- Using BioRuby, examine the sequences of the ~167 Arabidopsis genes from the last assignment by retrieving them from whatever database you wish.\n",
    "\n",
    "First, all the gene data from ENSEMBL is fetched. This may take a few minutes. "
   ]
  },
  {
   "cell_type": "code",
   "execution_count": 2,
   "metadata": {},
   "outputs": [
    {
     "name": "stdout",
     "output_type": "stream",
     "text": [
      "\n",
      "Progress: |                                                                    |\n",
      "Genes loaded: 169\n",
      "\n"
     ]
    }
   ],
   "source": [
    "records = Functions.load_from_file(file)\n",
    "puts ''"
   ]
  },
  {
   "cell_type": "markdown",
   "metadata": {},
   "source": [
    "### Task 2- Loop over every exon feature, and scan it for the CTTCTT sequence.\n",
    "\n",
    "Genes have the motif in their sequence are checked and "
   ]
  },
  {
   "cell_type": "code",
   "execution_count": 3,
   "metadata": {},
   "outputs": [
    {
     "name": "stdout",
     "output_type": "stream",
     "text": [
      "Number of genes where CTTCTT sequences were found in at least one exon: 120\n",
      "\n"
     ]
    }
   ],
   "source": [
    "motif_coord_in_exon = Functions.scan_exons(records, motif)\n",
    "puts ''"
   ]
  },
  {
   "cell_type": "markdown",
   "metadata": {},
   "source": [
    "### Task 3- Take the coordinates of every CTTCTT sequence and create a new Sequence Feature (you can name the feature type, and source type, whatever you wish; the start and end coordinates are the first ‘C’ and the last ‘T’ of the match.).  Add that new Feature to the EnsEMBL Sequence object.  (YOU NEED TO KNOW:  When you do regular expression matching in Ruby, use RegEx/MatchData objects; there are methods that will tell you the starting and ending coordinates of the match in the string)."
   ]
  },
  {
   "cell_type": "code",
   "execution_count": 4,
   "metadata": {},
   "outputs": [
    {
     "name": "stdout",
     "output_type": "stream",
     "text": [
      "Features added\n"
     ]
    }
   ],
   "source": [
    "Functions.add_motif_feature(records, motif_coord_in_exon, motif)"
   ]
  },
  {
   "cell_type": "markdown",
   "metadata": {},
   "source": [
    "### Task 4a- Once you have found them all, and added them all, loop over each one of your CTTCTT features (using the #features method of the EnsEMBL Sequence object) and create a GFF3-formatted file of these features.\n",
    "\n",
    "For the attributes column, start and end refers to the coordinates inside the gene. In this case, it is the same as the start and end columns. "
   ]
  },
  {
   "cell_type": "code",
   "execution_count": 5,
   "metadata": {},
   "outputs": [
    {
     "name": "stdout",
     "output_type": "stream",
     "text": [
      "genes_CTTCTT.gff created and saved in /Users/claudiabdm/Documents/GitHub/CBDM_BioInfoChallenges/Assingment3/output_files\n",
      "\n",
      "AT2g46340\t.\tdispersed_repeat\t5128\t5123\t.\t-\t.\tID=CTTCTT_AT2G46340.2.exon1_1; Parent=AT2G46340.2.exon1; Note=complement(5128..5123)\n",
      "\n",
      "AT2g46340\t.\tdispersed_repeat\t5122\t5117\t.\t-\t.\tID=CTTCTT_AT2G46340.2.exon1_2; Parent=AT2G46340.2.exon1; Note=complement(5122..5117)\n",
      "\n",
      "AT2g46340\t.\tdispersed_repeat\t5116\t5111\t.\t-\t.\tID=CTTCTT_AT2G46340.2.exon1_3; Parent=AT2G46340.2.exon1; Note=complement(5116..5111)\n",
      "\n",
      "AT2g46340\t.\tdispersed_repeat\t4924\t4919\t.\t-\t.\tID=CTTCTT_AT2G46340.2.exon1_4; Parent=AT2G46340.2.exon1; Note=complement(4924..4919)\n",
      "\n",
      "AT2g46340\t.\tdispersed_repeat\t224\t219\t.\t-\t.\tID=CTTCTT_AT2G46340.1.exon8_1; Parent=AT2G46340.1.exon8; Note=complement(224..219)\n",
      "\n",
      "AT2g46340\t.\tdispersed_repeat\t224\t219\t.\t-\t.\tID=CTTCTT_AT2G46340.2.exon8_1; Parent=AT2G46340.2.exon8; Note=complement(224..219)\n",
      "\n",
      "AT2g46340\t.\tdispersed_repeat\t1179\t1174\t.\t-\t.\tID=CTTCTT_AT2G46340.2.exon6_1; Parent=AT2G46340.2.exon6; Note=complement(1179..1174)\n",
      "\n",
      "AT2g46340\t.\tdispersed_repeat\t5128\t5123\t.\t-\t.\tID=CTTCTT_AT2G46340.1.exon1_1; Parent=AT2G46340.1.exon1; Note=complement(5128..5123)\n",
      "\n",
      "AT2g46340\t.\tdispersed_repeat\t5122\t5117\t.\t-\t.\tID=CTTCTT_AT2G46340.1.exon1_2; Parent=AT2G46340.1.exon1; Note=complement(5122..5117)\n",
      "\n",
      "AT2g46340\t.\tdispersed_repeat\t5116\t5111\t.\t-\t.\tID=CTTCTT_AT2G46340.1.exon1_3; Parent=AT2G46340.1.exon1; Note=complement(5116..5111)\n",
      "\n",
      "\n"
     ]
    }
   ],
   "source": [
    "Functions.create_gff_genes(records, motif)\n",
    "\n",
    "# Show lines for the gene AT2G46340\n",
    "File.readlines(\"./output_files/genes_#{motif}.gff\").each do |line| \n",
    "  puts line if line.match(/AT2G46340/i)\n",
    "end\n",
    "puts ''"
   ]
  },
  {
   "cell_type": "markdown",
   "metadata": {},
   "source": [
    "### Task 4b-  Output a report showing which (if any) genes on your list do NOT have exons with the CTTCTT repeat."
   ]
  },
  {
   "cell_type": "code",
   "execution_count": 6,
   "metadata": {},
   "outputs": [
    {
     "name": "stdout",
     "output_type": "stream",
     "text": [
      "Genes where CTTCTT sequences were not found in any exon:\n",
      "\n",
      "AT4G27030\n",
      "\n",
      "AT2G13360\n",
      "\n",
      "AT3G28270\n",
      "\n",
      "AT5G64040\n",
      "\n",
      "AT1G29660\n",
      "\n",
      "AT1G64500\n",
      "\n",
      "AT1G03130\n",
      "\n",
      "AT4G17090\n",
      "\n",
      "AT4G12830\n",
      "\n",
      "AT2G01890\n",
      "\n",
      "AT2G21210\n",
      "\n",
      "AT1G52230\n",
      "\n",
      "AT1G11850\n",
      "\n",
      "AT2G34430\n",
      "\n",
      "AT4G33010\n",
      "\n",
      "AT4G27260\n",
      "\n",
      "AT4G21210\n",
      "\n",
      "AT1G29395\n",
      "\n",
      "AT2G34420\n",
      "\n",
      "AT4G37800\n",
      "\n",
      "AT3G02730\n",
      "\n",
      "AT5G01015\n",
      "\n",
      "AT1G14150\n",
      "\n",
      "AT4G28030\n",
      "\n",
      "AT1G54040\n",
      "\n",
      "AT5G22920\n",
      "\n",
      "AT1G78370\n",
      "\n",
      "AT1G68010\n",
      "\n",
      "AT2G26740\n",
      "\n",
      "AT1G72610\n",
      "\n",
      "AT5G62280\n",
      "\n",
      "AT1G28330\n",
      "\n",
      "AT3G46780\n",
      "\n",
      "AT2G33830\n",
      "\n",
      "AT3G47340\n",
      "\n",
      "AT1G29910\n",
      "\n",
      "AT5G43750\n",
      "\n",
      "AT1G13930\n",
      "\n",
      "AT3G61260\n",
      "\n",
      "AT2G38210\n",
      "\n",
      "AT1G29920\n",
      "\n",
      "AT1G74730\n",
      "\n",
      "AT4G02770\n",
      "\n",
      "AT5G48300\n",
      "\n",
      "AT5G48490\n",
      "\n",
      "AT1G30380\n",
      "\n",
      "AT1G78460\n",
      "\n",
      "AT4G12310\n",
      "\n",
      "AT5G58260\n",
      "\n",
      "\n"
     ]
    }
   ],
   "source": [
    "Functions.genes_without_motif_exons(records, motif_coord_in_exon, motif)\n",
    "begin\n",
    "  File.readlines(\"./output_files/genes_without_#{motif}_in_any_exon.txt\").each do |line|\n",
    "    puts line\n",
    "  end\n",
    "rescue Errno::ENOENT\n",
    "  puts 'Genes without motif in any exon were not found'\n",
    "end\n",
    "puts ''"
   ]
  },
  {
   "cell_type": "markdown",
   "metadata": {},
   "source": [
    "### Task 5- Re-execute your GFF file creation so that the CTTCTT regions are now in the full chromosome coordinates used by EnsEMBL. Save this as a separate file.\n",
    "\n",
    "For the attributes column, start and end refers to the coordinates inside the gene. In this case, they are not equal to the start and end columns because these columns are genome coordinates."
   ]
  },
  {
   "cell_type": "code",
   "execution_count": 8,
   "metadata": {},
   "outputs": [
    {
     "name": "stdout",
     "output_type": "stream",
     "text": [
      "genome_CTTCTT.gff created and saved in /Users/claudiabdm/Documents/GitHub/CBDM_BioInfoChallenges/Assingment3/output_files\n",
      "\n",
      "2\t.\tdispersed_repeat\t19027277\t19027282\t.\t-\t.\tID=CTTCTT_AT2G46340.2.exon1_1; Parent=AT2G46340.2.exon1; Note=complement(5128..5123)\n",
      "\n",
      "2\t.\tdispersed_repeat\t19027271\t19027276\t.\t-\t.\tID=CTTCTT_AT2G46340.2.exon1_2; Parent=AT2G46340.2.exon1; Note=complement(5122..5117)\n",
      "\n",
      "2\t.\tdispersed_repeat\t19027265\t19027270\t.\t-\t.\tID=CTTCTT_AT2G46340.2.exon1_3; Parent=AT2G46340.2.exon1; Note=complement(5116..5111)\n",
      "\n",
      "2\t.\tdispersed_repeat\t19027073\t19027078\t.\t-\t.\tID=CTTCTT_AT2G46340.2.exon1_4; Parent=AT2G46340.2.exon1; Note=complement(4924..4919)\n",
      "\n",
      "2\t.\tdispersed_repeat\t19022373\t19022378\t.\t-\t.\tID=CTTCTT_AT2G46340.1.exon8_1; Parent=AT2G46340.1.exon8; Note=complement(224..219)\n",
      "\n",
      "2\t.\tdispersed_repeat\t19022373\t19022378\t.\t-\t.\tID=CTTCTT_AT2G46340.2.exon8_1; Parent=AT2G46340.2.exon8; Note=complement(224..219)\n",
      "\n",
      "2\t.\tdispersed_repeat\t19023328\t19023333\t.\t-\t.\tID=CTTCTT_AT2G46340.2.exon6_1; Parent=AT2G46340.2.exon6; Note=complement(1179..1174)\n",
      "\n",
      "2\t.\tdispersed_repeat\t19027277\t19027282\t.\t-\t.\tID=CTTCTT_AT2G46340.1.exon1_1; Parent=AT2G46340.1.exon1; Note=complement(5128..5123)\n",
      "\n",
      "2\t.\tdispersed_repeat\t19027271\t19027276\t.\t-\t.\tID=CTTCTT_AT2G46340.1.exon1_2; Parent=AT2G46340.1.exon1; Note=complement(5122..5117)\n",
      "\n",
      "2\t.\tdispersed_repeat\t19027265\t19027270\t.\t-\t.\tID=CTTCTT_AT2G46340.1.exon1_3; Parent=AT2G46340.1.exon1; Note=complement(5116..5111)\n",
      "\n",
      "\n"
     ]
    }
   ],
   "source": [
    "Functions.create_gff_genome(records, motif)\n",
    "\n",
    "# Show records lines for AT2G46340\n",
    "File.readlines(\"./output_files/genome_#{motif}.gff\").each do |line| \n",
    "  puts line if line.match(/AT2G46340/i)\n",
    "end\n",
    "puts ''"
   ]
  },
  {
   "cell_type": "markdown",
   "metadata": {},
   "source": [
    "### Task 6- Prove that your GFF file is correct by uploading it to ENSEMBL and adding it as a new “track” to the genome browser of Arabidopsis (see http://plants.ensembl.org/info/website/upload/index.html  - there are also links here that will help you understand GFF format → tells you what information should appear in Column 1!)    \n",
    "\n",
    "Along with your code, for this assignment please submit a screen-shot of your GFF track beside the AT2G46340 gene on the ENSEMBL website to show me that you were successful.  (note that the menu in the top-left of the ENSEMBL track-browser has an “export as image” option - or you can just take a screenshot - whichever you prefer)\n",
    "\n",
    "\n",
    "#### Link that corresponds to the image below: \n",
    "http://plants.ensembl.org/Arabidopsis_thaliana/Share/3447739e89bbc6945e0be1a49adeff5d?redirect=no;mobileredirect=no\n",
    "\n",
    "The images demonstrate that everything worked well. The track shows that the CTTCTT sequences are in the exons of the genes (Fig 1) and with the correct coordinates (Fig 2). "
   ]
  },
  {
   "cell_type": "markdown",
   "metadata": {},
   "source": [
    "#### Fig 1. AT2G46340_gene\n",
    "![Fig 1. AT2G46340_gene](./img/cttctt_AT2G46340_gene.png)"
   ]
  },
  {
   "cell_type": "markdown",
   "metadata": {},
   "source": [
    "#### Fig 2. AT2G46340_sequence\n",
    "![Fig 2. AT2G46340_sequence](./img/cttctt_AT2G46340_sequence.png)"
   ]
  }
 ],
 "metadata": {
  "kernelspec": {
   "display_name": "Ruby 2.6.3",
   "language": "ruby",
   "name": "ruby"
  },
  "language_info": {
   "file_extension": ".rb",
   "mimetype": "application/x-ruby",
   "name": "ruby",
   "version": "2.6.3"
  }
 },
 "nbformat": 4,
 "nbformat_minor": 2
}
