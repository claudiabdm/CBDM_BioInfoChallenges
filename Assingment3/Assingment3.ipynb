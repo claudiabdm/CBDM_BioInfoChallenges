{
 "cells": [
  {
   "cell_type": "markdown",
   "metadata": {},
   "source": [
    "# Bioinformatics Programming Challenges\n",
    "## Assignment 3: GFF feature files and visualization\n",
    "\n",
    "#### Name: Claudia Benito de Moya \n",
    "#### Email: c.benitod@alumnos.upm.es"
   ]
  },
  {
   "cell_type": "code",
   "execution_count": 1,
   "metadata": {},
   "outputs": [
    {
     "data": {
      "text/plain": [
       "true"
      ]
     },
     "execution_count": 1,
     "metadata": {},
     "output_type": "execute_result"
    }
   ],
   "source": [
    "require 'rest-client'\n",
    "require 'net/http'\n",
    "require 'bio'\n",
    "require './A3functions/functions'"
   ]
  },
  {
   "cell_type": "markdown",
   "metadata": {},
   "source": [
    "### Task 1- Using BioRuby, examine the sequences of the ~167 Arabidopsis genes from the last assignment by retrieving them from whatever database you wish."
   ]
  },
  {
   "cell_type": "code",
   "execution_count": 2,
   "metadata": {},
   "outputs": [
    {
     "name": "stdout",
     "output_type": "stream",
     "text": [
      "Genes loaded: 169\n",
      "\n"
     ]
    }
   ],
   "source": [
    "file = 'ArabidopsisSubNetwork_GeneList.txt'\n",
    "records = Functions.load_from_file('ArabidopsisSubNetwork_GeneList.txt')\n",
    "puts ''"
   ]
  },
  {
   "cell_type": "markdown",
   "metadata": {},
   "source": [
    "### Task 2- Loop over every exon feature, and scan it for the CTTCTT sequence."
   ]
  },
  {
   "cell_type": "code",
   "execution_count": 40,
   "metadata": {},
   "outputs": [
    {
     "name": "stderr",
     "output_type": "stream",
     "text": [
      "/Users/claudiabdm/Documents/GitHub/CBDM_BioInfoChallenges/Assingment3/A3functions/functions.rb:27: warning: flags ignored\n"
     ]
    },
    {
     "name": "stdout",
     "output_type": "stream",
     "text": [
      "Genes were CTTCTT sequence were found: 162\n"
     ]
    }
   ],
   "source": [
    "Functions.scan_repeats(records, 'CTTCTT')"
   ]
  },
  {
   "cell_type": "markdown",
   "metadata": {},
   "source": [
    "### Task 3- Take the coordinates of every CTTCTT sequence and create a new Sequence Feature (you can name the feature type, and source type, whatever you wish; the start and end coordinates are the first ‘C’ and the last ‘T’ of the match.).  Add that new Feature to the EnsEMBL Sequence object.  (YOU NEED TO KNOW:  When you do regular expression matching in Ruby, use RegEx/MatchData objects; there are methods that will tell you the starting and ending coordinates of the match in the string)."
   ]
  },
  {
   "cell_type": "code",
   "execution_count": 4,
   "metadata": {},
   "outputs": [
    {
     "name": "stdout",
     "output_type": "stream",
     "text": [
      "\n",
      "Features added.\n"
     ]
    }
   ],
   "source": [
    "records_copy = records\n",
    "Functions.add_features(records_copy, 'CTTCTT') "
   ]
  },
  {
   "cell_type": "markdown",
   "metadata": {},
   "source": [
    "### Task 4a- Once you have found them all, and added them all, loop over each one of your CTTCTT features (using the #features method of the EnsEMBL Sequence object) and create a GFF3-formatted file of these features.\n",
    "\n",
    "For the attributes column, start and end refers to the coordinates inside the gene. In this case, it is the same as the start and end columns. "
   ]
  },
  {
   "cell_type": "code",
   "execution_count": 38,
   "metadata": {},
   "outputs": [
    {
     "name": "stdout",
     "output_type": "stream",
     "text": [
      "genes_CTTCTT.gff created and saved in /Users/claudiabdm/Documents/GitHub/CBDM_BioInfoChallenges/Assingment3\n",
      "\n",
      "##gff-version 3\n",
      "\n",
      "AT5g54270\t.\tdispersed_repeat\t437\t442\t.\t+\t.\tID=AT5g54270_1_CTTCTT;start=437;end=442\n",
      "\n",
      "AT5g54270\t.\tdispersed_repeat\t1098\t1103\t.\t+\t.\tID=AT5g54270_2_CTTCTT;start=1098;end=1103\n",
      "\n",
      "AT5g54270\t.\tdispersed_repeat\t88\t93\t.\t-\t.\tID=AT5g54270_3_CTTCTT;start=88;end=93\n",
      "\n",
      "AT5g54270\t.\tdispersed_repeat\t1191\t1196\t.\t-\t.\tID=AT5g54270_4_CTTCTT;start=1191;end=1196\n",
      "\n",
      "AT1g21400\t.\tdispersed_repeat\t213\t218\t.\t+\t.\tID=AT1g21400_1_CTTCTT;start=213;end=218\n",
      "\n",
      "\n"
     ]
    }
   ],
   "source": [
    "Functions.create_gff_gene(records_copy, 'CTTCTT', 'rpt_type')\n",
    "\n",
    "#show 5 first lines\n",
    "File.readlines('genes_CTTCTT.gff')[0..5].each do |line| \n",
    "  puts line\n",
    "end\n",
    "puts ''"
   ]
  },
  {
   "cell_type": "markdown",
   "metadata": {},
   "source": [
    "### Task 4b-  Output a report showing which (if any) genes on your list do NOT have exons with the CTTCTT repeat."
   ]
  },
  {
   "cell_type": "code",
   "execution_count": 6,
   "metadata": {},
   "outputs": [
    {
     "name": "stderr",
     "output_type": "stream",
     "text": [
      "/Users/claudiabdm/Documents/GitHub/CBDM_BioInfoChallenges/Assingment3/A3functions/functions.rb:99: warning: flags ignored\n"
     ]
    },
    {
     "name": "stdout",
     "output_type": "stream",
     "text": [
      "Genes were CTTCTT sequences were not found:\n",
      "AT4g27030\n",
      "AT2g34420\n",
      "AT5g01015\n",
      "AT1g14150\n",
      "AT1g28330\n",
      "AT1g29910\n",
      "AT1g29920\n",
      "\n"
     ]
    }
   ],
   "source": [
    "Functions.genes_without_repeat(records, 'CTTCTT')\n",
    "\n",
    "puts File.read('genes_without_CTTCTT.txt')"
   ]
  },
  {
   "cell_type": "markdown",
   "metadata": {},
   "source": [
    "### Task 5- Re-execute your GFF file creation so that the CTTCTT regions are now in the full chromosome coordinates used by EnsEMBL. Save this as a separate file.\n",
    "\n",
    "For the attributes column, start and end refers to the coordinates inside the gene. In this case, they are not equal to the start and end columns because these columns are genome coordinates."
   ]
  },
  {
   "cell_type": "code",
   "execution_count": 37,
   "metadata": {},
   "outputs": [
    {
     "name": "stdout",
     "output_type": "stream",
     "text": [
      "genome_CTTCTT.gff created and saved in /Users/claudiabdm/Documents/GitHub/CBDM_BioInfoChallenges/Assingment3\n",
      "\n",
      "##gff-version 3\n",
      "\n",
      "5\t.\tdispersed_repeat\t22038602\t22038607\t.\t+\t.\tID=AT5g54270_1_CTTCTT;start=437;end=442\n",
      "\n",
      "5\t.\tdispersed_repeat\t22039263\t22039268\t.\t+\t.\tID=AT5g54270_2_CTTCTT;start=1098;end=1103\n",
      "\n",
      "5\t.\tdispersed_repeat\t22039475\t22039480\t.\t-\t.\tID=AT5g54270_3_CTTCTT;start=88;end=93\n",
      "\n",
      "5\t.\tdispersed_repeat\t22038372\t22038377\t.\t-\t.\tID=AT5g54270_4_CTTCTT;start=1191;end=1196\n",
      "\n",
      "1\t.\tdispersed_repeat\t7493426\t7493431\t.\t+\t.\tID=AT1g21400_1_CTTCTT;start=213;end=218\n",
      "\n",
      "\n"
     ]
    }
   ],
   "source": [
    "Functions.create_gff_genome(records_copy, 'CTTCTT', 'rpt_type')\n",
    "\n",
    "#show 5 first lines\n",
    "File.readlines('genome_CTTCTT.gff')[0..5].each do |line| \n",
    "  puts line\n",
    "end\n",
    "puts ''"
   ]
  },
  {
   "cell_type": "markdown",
   "metadata": {},
   "source": [
    "### Task 6- Prove that your GFF file is correct by uploading it to ENSEMBL and adding it as a new “track” to the genome browser of Arabidopsis (see http://plants.ensembl.org/info/website/upload/index.html  - there are also links here that will help you understand GFF format → tells you what information should appear in Column 1!)    \n",
    "\n",
    "Along with your code, for this assignment please submit a screen-shot of your GFF track beside the AT2G46340 gene on the ENSEMBL website to show me that you were successful.  (note that the menu in the top-left of the ENSEMBL track-browser has an “export as image” option - or you can just take a screenshot - whichever you prefer)\n",
    "\n",
    "\n",
    "#### Link that corresponds to the image below: \n",
    "http://plants.ensembl.org/Arabidopsis_thaliana/Share/d0c2104a3aa64b8fb9f1a70942cc7a3c?redirect=no;mobileredirect=no\n",
    "\n",
    "The image demonstrates that everything worked well. The track shows correctly where the CTTCTT sequences are in the gene for both the forward and the reverse strand. "
   ]
  },
  {
   "cell_type": "markdown",
   "metadata": {},
   "source": [
    "![title](cttctt_browser_AT2G46340.png)"
   ]
  }
 ],
 "metadata": {
  "kernelspec": {
   "display_name": "Ruby 2.6.3",
   "language": "ruby",
   "name": "ruby"
  },
  "language_info": {
   "file_extension": ".rb",
   "mimetype": "application/x-ruby",
   "name": "ruby",
   "version": "2.6.3"
  }
 },
 "nbformat": 4,
 "nbformat_minor": 2
}
