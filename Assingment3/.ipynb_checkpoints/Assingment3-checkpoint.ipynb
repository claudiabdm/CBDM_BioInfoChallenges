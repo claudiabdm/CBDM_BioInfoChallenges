{
 "cells": [
  {
   "cell_type": "markdown",
   "metadata": {},
   "source": [
    "# Bioinformatics Programming Challenges\n",
    "## Assignment 3: GFF feature files and visualization\n",
    "\n",
    "#### Name: Claudia Benito de Moya \n",
    "#### Email: c.benitod@alumnos.upm.es"
   ]
  },
  {
   "cell_type": "code",
   "execution_count": 1,
   "metadata": {},
   "outputs": [
    {
     "name": "stdout",
     "output_type": "stream",
     "text": [
      "\n"
     ]
    }
   ],
   "source": [
    "require 'rest-client'\n",
    "require 'net/http'\n",
    "require 'bio'\n",
    "require 'ruby-progressbar'\n",
    "require './A3functions/functions'\n",
    "file = 'ArabidopsisSubNetwork_GeneList.txt'\n",
    "motif = 'CTTCTT'\n",
    "puts ''"
   ]
  },
  {
   "cell_type": "markdown",
   "metadata": {},
   "source": [
    "### Task 1- Using BioRuby, examine the sequences of the ~167 Arabidopsis genes from the last assignment by retrieving them from whatever database you wish."
   ]
  },
  {
   "cell_type": "code",
   "execution_count": null,
   "metadata": {},
   "outputs": [
    {
     "name": "stdout",
     "output_type": "stream",
     "text": [
      "\n",
      "Progress: |     "
     ]
    }
   ],
   "source": [
    "records = Functions.load_from_file(file)\n",
    "puts ''"
   ]
  },
  {
   "cell_type": "markdown",
   "metadata": {},
   "source": [
    "### Task 2- Loop over every exon feature, and scan it for the CTTCTT sequence."
   ]
  },
  {
   "cell_type": "code",
   "execution_count": null,
   "metadata": {},
   "outputs": [],
   "source": [
    "genes_with_motif = Functions.genes_with_motif(records, motif)\n",
    "motif_coord_in_exon = Functions.scan_exons(genes_with_motif, motif)\n",
    "puts ''"
   ]
  },
  {
   "cell_type": "markdown",
   "metadata": {},
   "source": [
    "### Task 3- Take the coordinates of every CTTCTT sequence and create a new Sequence Feature (you can name the feature type, and source type, whatever you wish; the start and end coordinates are the first ‘C’ and the last ‘T’ of the match.).  Add that new Feature to the EnsEMBL Sequence object.  (YOU NEED TO KNOW:  When you do regular expression matching in Ruby, use RegEx/MatchData objects; there are methods that will tell you the starting and ending coordinates of the match in the string)."
   ]
  },
  {
   "cell_type": "code",
   "execution_count": null,
   "metadata": {},
   "outputs": [],
   "source": [
    "Functions.add_motif_feature(genes_with_motif, motif_coord_in_exon, motif)"
   ]
  },
  {
   "cell_type": "markdown",
   "metadata": {},
   "source": [
    "### Task 4a- Once you have found them all, and added them all, loop over each one of your CTTCTT features (using the #features method of the EnsEMBL Sequence object) and create a GFF3-formatted file of these features.\n",
    "\n",
    "For the attributes column, start and end refers to the coordinates inside the gene. In this case, it is the same as the start and end columns. "
   ]
  },
  {
   "cell_type": "code",
   "execution_count": null,
   "metadata": {},
   "outputs": [],
   "source": [
    "Functions.create_gff_genes(genes_with_motif, motif)\n",
    "\n",
    "# Show lines for the gene AT2G46340\n",
    "File.readlines(\"./output_files/genes_#{motif}.gff\").each do |line| \n",
    "  puts line if line.match(/AT2G46340/i)\n",
    "end\n",
    "puts ''"
   ]
  },
  {
   "cell_type": "markdown",
   "metadata": {},
   "source": [
    "### Task 4b-  Output a report showing which (if any) genes on your list do NOT have exons with the CTTCTT repeat."
   ]
  },
  {
   "cell_type": "code",
   "execution_count": null,
   "metadata": {},
   "outputs": [],
   "source": [
    "Functions.genes_without_motif(records, motif)\n",
    "File.readlines(\"./output_files/genes_without_#{motif}.txt\").each do |line| \n",
    "  puts line\n",
    "end\n",
    "puts ''"
   ]
  },
  {
   "cell_type": "markdown",
   "metadata": {},
   "source": [
    "### Task 5- Re-execute your GFF file creation so that the CTTCTT regions are now in the full chromosome coordinates used by EnsEMBL. Save this as a separate file.\n",
    "\n",
    "For the attributes column, start and end refers to the coordinates inside the gene. In this case, they are not equal to the start and end columns because these columns are genome coordinates."
   ]
  },
  {
   "cell_type": "code",
   "execution_count": null,
   "metadata": {},
   "outputs": [],
   "source": [
    "Functions.create_gff_genome(genes_with_motif, motif)\n",
    "\n",
    "# Show records lines for AT2G46340\n",
    "File.readlines(\"./output_files/genome_#{motif}.gff\").each do |line| \n",
    "  puts line if line.match(/AT2G46340/i)\n",
    "end\n",
    "puts ''"
   ]
  },
  {
   "cell_type": "markdown",
   "metadata": {},
   "source": [
    "### Task 6- Prove that your GFF file is correct by uploading it to ENSEMBL and adding it as a new “track” to the genome browser of Arabidopsis (see http://plants.ensembl.org/info/website/upload/index.html  - there are also links here that will help you understand GFF format → tells you what information should appear in Column 1!)    \n",
    "\n",
    "Along with your code, for this assignment please submit a screen-shot of your GFF track beside the AT2G46340 gene on the ENSEMBL website to show me that you were successful.  (note that the menu in the top-left of the ENSEMBL track-browser has an “export as image” option - or you can just take a screenshot - whichever you prefer)\n",
    "\n",
    "\n",
    "#### Link that corresponds to the image below: \n",
    "http://plants.ensembl.org/Arabidopsis_thaliana/Share/3447739e89bbc6945e0be1a49adeff5d?redirect=no;mobileredirect=no\n",
    "\n",
    "The images demonstrate that everything worked well. The track shows that the CTTCTT sequences are in the exons of the genes (Fig 1) and with the correct coordinates (Fig 2). "
   ]
  },
  {
   "cell_type": "markdown",
   "metadata": {},
   "source": [
    "#### Fig 1. AT2G46340_gene\n",
    "![Fig 1. AT2G46340_gene](cttctt_browser_AT2G46340_gene.png)"
   ]
  },
  {
   "cell_type": "markdown",
   "metadata": {},
   "source": [
    "#### Fig 2. AT2G46340_sequence\n",
    "![Fig 2. AT2G46340_sequence](cttctt_browser_AT2G46340_sequence.png)"
   ]
  }
 ],
 "metadata": {
  "kernelspec": {
   "display_name": "Ruby 2.6.3",
   "language": "ruby",
   "name": "ruby"
  },
  "language_info": {
   "file_extension": ".rb",
   "mimetype": "application/x-ruby",
   "name": "ruby",
   "version": "2.6.3"
  }
 },
 "nbformat": 4,
 "nbformat_minor": 2
}
